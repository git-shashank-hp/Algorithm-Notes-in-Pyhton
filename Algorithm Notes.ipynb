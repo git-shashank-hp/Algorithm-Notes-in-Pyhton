{
 "cells": [
  {
   "cell_type": "markdown",
   "metadata": {},
   "source": [
    "# Linear Search\n",
    "\n",
    "## Definition\n",
    "Linear search is a simple search algorithm that checks each element in a list or array sequentially until it finds the target value or reaches the end of the list.\n",
    "\n",
    "## How It Works\n",
    "1. **Start at the Beginning**: Begin at the first element of the list.\n",
    "2. **Compare Each Element**: Compare the current element with the target value.\n",
    "3. **Continue Until Found or End**: \n",
    "   - If the current element matches the target, return its index.\n",
    "   - If it doesn’t match, move to the next element. Repeat until the target is found or the list ends.\n",
    "4. **Return Result**: \n",
    "   - If the target is found, return its index.\n",
    "   - If not, return a special value (often -1) indicating the target is not in the list.\n",
    "\n",
    "## Time Complexity\n",
    "- **Best Case**: O(1) (when the element is the first one)\n",
    "- **Worst Case**: O(n) (when the element is at the end or not present)\n",
    "- **Average Case**: O(n)\n",
    "\n",
    "## Space Complexity\n",
    "- O(1) (only a constant amount of extra space is used)\n",
    "\n",
    "## Example\n",
    "For an array `[10, 20, 30, 40, 50]`, if you want to find `30`:\n",
    "1. Compare `10` (not a match).\n",
    "2. Compare `20` (not a match).\n",
    "3. Compare `30` (match found at index 2).\n",
    "\n",
    "## Use Cases\n",
    "- Simple and effective for small or unsorted datasets.\n",
    "- When the list is small, the overhead of more complex algorithms (like binary search) is unnecessary.\n",
    "\n",
    "## Conclusion\n",
    "Linear search is a straightforward method, suitable for certain scenarios, but may not be the most efficient choice for large datasets.\n",
    "\n",
    "\n",
    "# Algorithm Complexity Scenarios\n",
    "\n",
    "When analyzing algorithms, we consider three primary scenarios to describe their performance:\n",
    "\n",
    "## 1. Best-Case Scenario (Ω)\n",
    "- **Definition**: The best-case scenario describes the minimum time or space an algorithm will take to complete. It reflects the most favorable conditions for the algorithm.\n",
    "- **Example**: In a linear search, the best case occurs when the target element is the first item in the list.\n",
    "\n",
    "## 2. Worst-Case Scenario (Big-O)\n",
    "- **Definition**: The worst-case scenario denotes the maximum time or space an algorithm will take to complete. It reflects the least favorable conditions and provides an upper limit on performance.\n",
    "- **Example**: In a linear search, the worst case occurs when the target element is the last item in the list or not present at all.\n",
    "\n",
    "## 3. Average-Case Scenario (Θ)\n",
    "- **Definition**: The average-case scenario estimates the expected time or space an algorithm will take over all possible inputs. It considers a typical input case, providing a more realistic performance measure.\n",
    "- **Example**: For a linear search, the average case assumes that the target element is equally likely to be found at any position in the list.\n",
    "\n",
    "## Summary\n",
    "- **Best Case (Ω)**: Minimum performance, most favorable input.\n",
    "- **Worst Case (Big-O)**: Maximum performance, least favorable input.\n",
    "- **Average Case (Θ)**: Expected performance over all inputs, reflecting typical conditions.\n"
   ]
  },
  {
   "cell_type": "markdown",
   "metadata": {},
   "source": [
    "---"
   ]
  },
  {
   "cell_type": "markdown",
   "metadata": {},
   "source": [
    "## Code sample \n"
   ]
  },
  {
   "cell_type": "code",
   "execution_count": 2,
   "metadata": {},
   "outputs": [
    {
     "name": "stdout",
     "output_type": "stream",
     "text": [
      "Element found at index: 13\n"
     ]
    }
   ],
   "source": [
    "#array and search value provided \n",
    "\n",
    "def LinearSearch (arr , val ):\n",
    "    for i in range(len(arr)):\n",
    "        if arr[i] == val :\n",
    "            return i\n",
    "    return -1\n",
    "\n",
    "array = [12,31,35,37,41,43,47,51,53,59,61,67,71,73,79,83,97]\n",
    "value  = 73\n",
    "\n",
    "\n",
    "result = LinearSearch( array , value)\n",
    "\n",
    "# Print the result\n",
    "if result != -1:\n",
    "    print(\"Element found at index:\", result)\n",
    "else:\n",
    "    print(\"Element not found.\")"
   ]
  },
  {
   "cell_type": "code",
   "execution_count": 3,
   "metadata": {},
   "outputs": [
    {
     "name": "stdout",
     "output_type": "stream",
     "text": [
      "Element found at index: 7\n"
     ]
    }
   ],
   "source": [
    "# Get user input for the array\n",
    "user_input = input(\"Enter numbers separated by commas: \")\n",
    "array1 = [int(num) for num in user_input.split(',')]\n",
    "\n",
    "# Get user input for the element to search\n",
    "value1 = int(input(\"Enter the number you want to search for: \"))\n",
    "\n",
    "result = LinearSearch( array1 , value1)\n",
    "\n",
    "# Print the result\n",
    "if result != -1:\n",
    "    print(\"Element found at index:\", result)\n",
    "else:\n",
    "    print(\"Element not found.\")"
   ]
  },
  {
   "cell_type": "markdown",
   "metadata": {},
   "source": [
    "---"
   ]
  },
  {
   "cell_type": "markdown",
   "metadata": {},
   "source": [
    "### Binary Search: A Brief Overview\n",
    "\n",
    "Binary search is an efficient algorithm for finding a target value in a **sorted** array. It works by repeatedly dividing the search interval in half, leading to a much faster search than linear search.\n",
    "\n",
    "#### How It Works:\n",
    "1. **Initialization**: Start with two pointers—`low` (beginning of the array) and `high` (end of the array).\n",
    "2. **Midpoint Calculation**: Calculate the middle index: `mid = (low + high) // 2`.\n",
    "3. **Comparison**:\n",
    "   - If the element at `mid` is the target, the search is successful.\n",
    "   - If the target is smaller than the middle element, adjust the `high` pointer to `mid - 1`.\n",
    "   - If the target is larger, adjust the `low` pointer to `mid + 1`.\n",
    "4. **Repeat**: Continue this process until the target is found or the search interval is empty.\n",
    "\n",
    "#### Key Features:\n",
    "- **Time Complexity**: O(log n), making it significantly faster than linear search (O(n)), especially for large datasets.\n",
    "- **Space Complexity**: O(1) for the iterative version; O(log n) for the recursive version due to call stack usage.\n",
    "- **Precondition**: The array must be sorted prior to using binary search.\n",
    "\n",
    "#### Applications:\n",
    "- Commonly used in databases, search algorithms, and various data structures like binary search trees.\n",
    "\n",
    "Binary search is a fundamental algorithm that highlights the power of divide-and-conquer strategies in computer science.\n"
   ]
  },
  {
   "cell_type": "markdown",
   "metadata": {},
   "source": [
    "---"
   ]
  },
  {
   "cell_type": "markdown",
   "metadata": {},
   "source": [
    "## Code sample \n"
   ]
  },
  {
   "cell_type": "code",
   "execution_count": 24,
   "metadata": {},
   "outputs": [
    {
     "name": "stdout",
     "output_type": "stream",
     "text": [
      "Array: [1, 2, 3, 4, 5, 6, 7, 8, 9, 10, 11, 12, 13, 14, 15, 16, 17, 18, 19, 20, 21, 22, 23, 24, 25] \n",
      "\n",
      "Current low: 0, high: 24, mid: 12, mid value: 13\n",
      "Current values from low to high: [1, 2, 3, 4, 5, 6, 7, 8, 9, 10, 11, 12, 13, 14, 15, 16, 17, 18, 19, 20, 21, 22, 23, 24, 25] \n",
      "\n",
      "Current low: 13, high: 24, mid: 18, mid value: 19\n",
      "Current values from low to high: [14, 15, 16, 17, 18, 19, 20, 21, 22, 23, 24, 25] \n",
      "\n",
      "Current low: 19, high: 24, mid: 21, mid value: 22\n",
      "Current values from low to high: [20, 21, 22, 23, 24, 25] \n",
      "\n",
      "Current low: 22, high: 24, mid: 23, mid value: 24\n",
      "Current values from low to high: [23, 24, 25] \n",
      "\n",
      "Current low: 24, high: 24, mid: 24, mid value: 25\n",
      "Current values from low to high: [25] \n",
      "\n",
      "Element 25 found at index: 24\n",
      "\n",
      "Element 25 found at index: 24\n",
      "\n"
     ]
    }
   ],
   "source": [
    "import time\n",
    "\n",
    "def binary_search(arr, target):\n",
    "    low = 0\n",
    "    high = len(arr) - 1\n",
    "\n",
    "    print(\"Array:\", arr, \"\\n\")  # Print the entire array with a new line\n",
    "\n",
    "    while low <= high:\n",
    "        mid = (low + high) // 2\n",
    "        print(f\"Current low: {low}, high: {high}, mid: {mid}, mid value: {arr[mid]}\")  # Debug info\n",
    "        print(\"Current values from low to high:\", arr[low:high + 1], \"\\n\")  # Print values from low to high with a new line\n",
    "        time.sleep(0.5)  # Delay for 0.5 seconds\n",
    "\n",
    "        if arr[mid] == target:\n",
    "            print(f\"Element {target} found at index: {mid}\\n\")  # New line after found\n",
    "            return mid  # Target found\n",
    "        elif arr[mid] < target:\n",
    "            low = mid + 1  # Search in the right half\n",
    "        else:\n",
    "            high = mid - 1  # Search in the left half\n",
    "\n",
    "    print(f\"Element {target} not found in the array.\\n\")  # New line for not found\n",
    "    return -1  # Target not found\n",
    "\n",
    "# Example usage with an array of 1-25\n",
    "sorted_array = list(range(1,26))  # Create an array of numbers from 1 to 50\n",
    "target = 25  # Change this to search for a different number\n",
    "result = binary_search(sorted_array, target)\n",
    "\n",
    "# Final output\n",
    "if result != -1:\n",
    "    print(f\"Element {target} found at index: {result}\\n\")\n",
    "else:\n",
    "    print(\"Element not found.\\n\")\n"
   ]
  },
  {
   "cell_type": "markdown",
   "metadata": {},
   "source": [
    "----------\n"
   ]
  },
  {
   "cell_type": "markdown",
   "metadata": {},
   "source": [
    "# Big O Notation Overview\n",
    "\n",
    "Given below are some of the famous Big-O notations along with examples.\n",
    "\n",
    "| **Big O Notation** | **Name**       | **Example**                                               |\n",
    "|---------------------|----------------|-----------------------------------------------------------|\n",
    "| O(1)                | Constant       | - Odd or even number<br>- Look up a table                |\n",
    "| O(log n)            | Logarithmic    | - Find an element in a sorted array using binary search   |\n",
    "| O(n)                | Linear         | - Find the maximum element in an unsorted array<br>- Duplicate an element in an array with a Hash map |\n",
    "| O(n log n)         | Linearithmic   | - Sorting elements in an array using merge sort           |\n",
    "| O(n²)               | Quadratic      | - Sorting an array using bubble sort                      |\n",
    "| O(n³)               | Cubic          | - Three-variable equation solver                           |\n",
    "| O(2^n)              | Exponential    | - Find all subsets                                        |\n",
    "| O(n!)               | Factorial      | - Find all permutations of a given string                |\n"
   ]
  },
  {
   "cell_type": "markdown",
   "metadata": {},
   "source": []
  }
 ],
 "metadata": {
  "kernelspec": {
   "display_name": "base",
   "language": "python",
   "name": "python3"
  },
  "language_info": {
   "codemirror_mode": {
    "name": "ipython",
    "version": 3
   },
   "file_extension": ".py",
   "mimetype": "text/x-python",
   "name": "python",
   "nbconvert_exporter": "python",
   "pygments_lexer": "ipython3",
   "version": "3.11.4"
  }
 },
 "nbformat": 4,
 "nbformat_minor": 2
}
